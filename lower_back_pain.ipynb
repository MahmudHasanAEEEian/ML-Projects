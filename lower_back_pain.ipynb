{
  "nbformat": 4,
  "nbformat_minor": 0,
  "metadata": {
    "colab": {
      "provenance": []
    },
    "kernelspec": {
      "name": "python3",
      "display_name": "Python 3"
    },
    "language_info": {
      "name": "python"
    }
  },
  "cells": [
    {
      "cell_type": "code",
      "execution_count": null,
      "metadata": {
        "colab": {
          "base_uri": "https://localhost:8080/"
        },
        "id": "1-dscFb-lcze",
        "outputId": "18cb9ca1-8951-49dc-8de5-e1b7a385d72b"
      },
      "outputs": [
        {
          "output_type": "stream",
          "name": "stdout",
          "text": [
            "Mounted at /content/drive\n"
          ]
        }
      ],
      "source": [
        "from google.colab import drive\n",
        "drive.mount('/content/drive')"
      ]
    },
    {
      "cell_type": "code",
      "source": [
        "import pandas as pd\n",
        "import numpy as np\n",
        "import matplotlib.pyplot as plt\n",
        "from sklearn.model_selection import train_test_split\n",
        "from sklearn.neighbors import KNeighborsClassifier\n",
        "from sklearn.ensemble import RandomForestClassifier\n",
        "from sklearn.tree import DecisionTreeClassifier\n",
        "from sklearn.linear_model import LogisticRegression\n",
        "from sklearn.pipeline import make_pipeline\n",
        "from sklearn.preprocessing import StandardScaler\n",
        "from sklearn.naive_bayes import GaussianNB\n",
        "from sklearn.linear_model import SGDClassifier"
      ],
      "metadata": {
        "id": "BLUfLt20yfhR"
      },
      "execution_count": null,
      "outputs": []
    },
    {
      "cell_type": "code",
      "source": [
        "df = pd.read_csv(\"/content/drive/MyDrive/Thesis/Dataset_spine.csv\")\n",
        "df.columns"
      ],
      "metadata": {
        "id": "SZa4Y0ufmNFK",
        "colab": {
          "base_uri": "https://localhost:8080/"
        },
        "outputId": "e9d41d38-a66f-48b2-ebe2-ac17508802f4"
      },
      "execution_count": null,
      "outputs": [
        {
          "output_type": "execute_result",
          "data": {
            "text/plain": [
              "Index(['Col1', 'Col2', 'Col3', 'Col4', 'Col5', 'Col6', 'Col7', 'Col8', 'Col9',\n",
              "       'Col10', 'Col11', 'Col12', 'Class_att', 'Unnamed: 13'],\n",
              "      dtype='object')"
            ]
          },
          "metadata": {},
          "execution_count": 3
        }
      ]
    },
    {
      "cell_type": "code",
      "source": [
        "df = df.drop('Unnamed: 13', axis=1)"
      ],
      "metadata": {
        "id": "OgsQ8p2Z0e6X"
      },
      "execution_count": null,
      "outputs": []
    },
    {
      "cell_type": "code",
      "source": [
        "df"
      ],
      "metadata": {
        "colab": {
          "base_uri": "https://localhost:8080/",
          "height": 424
        },
        "id": "FlGabdTXyktX",
        "outputId": "8aa3453b-6296-49a8-98e4-94edec0df990"
      },
      "execution_count": null,
      "outputs": [
        {
          "output_type": "execute_result",
          "data": {
            "text/plain": [
              "          Col1       Col2       Col3       Col4        Col5       Col6  \\\n",
              "0    63.027817  22.552586  39.609117  40.475232   98.672917  -0.254400   \n",
              "1    39.056951  10.060991  25.015378  28.995960  114.405425   4.564259   \n",
              "2    68.832021  22.218482  50.092194  46.613539  105.985135  -3.530317   \n",
              "3    69.297008  24.652878  44.311238  44.644130  101.868495  11.211523   \n",
              "4    49.712859   9.652075  28.317406  40.060784  108.168725   7.918501   \n",
              "..         ...        ...        ...        ...         ...        ...   \n",
              "305  47.903565  13.616688  36.000000  34.286877  117.449062  -4.245395   \n",
              "306  53.936748  20.721496  29.220534  33.215251  114.365845  -0.421010   \n",
              "307  61.446597  22.694968  46.170347  38.751628  125.670725  -2.707880   \n",
              "308  45.252792   8.693157  41.583126  36.559635  118.545842   0.214750   \n",
              "309  33.841641   5.073991  36.641233  28.767649  123.945244  -0.199249   \n",
              "\n",
              "         Col7     Col8     Col9     Col10      Col11    Col12 Class_att  \n",
              "0    0.744503  12.5661  14.5386  15.30468 -28.658501  43.5123  Abnormal  \n",
              "1    0.415186  12.8874  17.5323  16.78486 -25.530607  16.1102  Abnormal  \n",
              "2    0.474889  26.8343  17.4861  16.65897 -29.031888  19.2221  Abnormal  \n",
              "3    0.369345  23.5603  12.7074  11.42447 -30.470246  18.8329  Abnormal  \n",
              "4    0.543360  35.4940  15.9546   8.87237 -16.378376  24.9171  Abnormal  \n",
              "..        ...      ...      ...       ...        ...      ...       ...  \n",
              "305  0.129744   7.8433  14.7484   8.51707 -15.728927  11.5472    Normal  \n",
              "306  0.047913  19.1986  18.1972   7.08745   6.013843  43.8693    Normal  \n",
              "307  0.081070  16.2059  13.5565   8.89572   3.564463  18.4151    Normal  \n",
              "308  0.159251  14.7334  16.0928   9.75922   5.767308  33.7192    Normal  \n",
              "309  0.674504  19.3825  17.6963  13.72929   1.783007  40.6049    Normal  \n",
              "\n",
              "[310 rows x 13 columns]"
            ],
            "text/html": [
              "\n",
              "  <div id=\"df-bb240fe1-3ffa-4bed-a8fa-3eb760f2d8d4\">\n",
              "    <div class=\"colab-df-container\">\n",
              "      <div>\n",
              "<style scoped>\n",
              "    .dataframe tbody tr th:only-of-type {\n",
              "        vertical-align: middle;\n",
              "    }\n",
              "\n",
              "    .dataframe tbody tr th {\n",
              "        vertical-align: top;\n",
              "    }\n",
              "\n",
              "    .dataframe thead th {\n",
              "        text-align: right;\n",
              "    }\n",
              "</style>\n",
              "<table border=\"1\" class=\"dataframe\">\n",
              "  <thead>\n",
              "    <tr style=\"text-align: right;\">\n",
              "      <th></th>\n",
              "      <th>Col1</th>\n",
              "      <th>Col2</th>\n",
              "      <th>Col3</th>\n",
              "      <th>Col4</th>\n",
              "      <th>Col5</th>\n",
              "      <th>Col6</th>\n",
              "      <th>Col7</th>\n",
              "      <th>Col8</th>\n",
              "      <th>Col9</th>\n",
              "      <th>Col10</th>\n",
              "      <th>Col11</th>\n",
              "      <th>Col12</th>\n",
              "      <th>Class_att</th>\n",
              "    </tr>\n",
              "  </thead>\n",
              "  <tbody>\n",
              "    <tr>\n",
              "      <th>0</th>\n",
              "      <td>63.027817</td>\n",
              "      <td>22.552586</td>\n",
              "      <td>39.609117</td>\n",
              "      <td>40.475232</td>\n",
              "      <td>98.672917</td>\n",
              "      <td>-0.254400</td>\n",
              "      <td>0.744503</td>\n",
              "      <td>12.5661</td>\n",
              "      <td>14.5386</td>\n",
              "      <td>15.30468</td>\n",
              "      <td>-28.658501</td>\n",
              "      <td>43.5123</td>\n",
              "      <td>Abnormal</td>\n",
              "    </tr>\n",
              "    <tr>\n",
              "      <th>1</th>\n",
              "      <td>39.056951</td>\n",
              "      <td>10.060991</td>\n",
              "      <td>25.015378</td>\n",
              "      <td>28.995960</td>\n",
              "      <td>114.405425</td>\n",
              "      <td>4.564259</td>\n",
              "      <td>0.415186</td>\n",
              "      <td>12.8874</td>\n",
              "      <td>17.5323</td>\n",
              "      <td>16.78486</td>\n",
              "      <td>-25.530607</td>\n",
              "      <td>16.1102</td>\n",
              "      <td>Abnormal</td>\n",
              "    </tr>\n",
              "    <tr>\n",
              "      <th>2</th>\n",
              "      <td>68.832021</td>\n",
              "      <td>22.218482</td>\n",
              "      <td>50.092194</td>\n",
              "      <td>46.613539</td>\n",
              "      <td>105.985135</td>\n",
              "      <td>-3.530317</td>\n",
              "      <td>0.474889</td>\n",
              "      <td>26.8343</td>\n",
              "      <td>17.4861</td>\n",
              "      <td>16.65897</td>\n",
              "      <td>-29.031888</td>\n",
              "      <td>19.2221</td>\n",
              "      <td>Abnormal</td>\n",
              "    </tr>\n",
              "    <tr>\n",
              "      <th>3</th>\n",
              "      <td>69.297008</td>\n",
              "      <td>24.652878</td>\n",
              "      <td>44.311238</td>\n",
              "      <td>44.644130</td>\n",
              "      <td>101.868495</td>\n",
              "      <td>11.211523</td>\n",
              "      <td>0.369345</td>\n",
              "      <td>23.5603</td>\n",
              "      <td>12.7074</td>\n",
              "      <td>11.42447</td>\n",
              "      <td>-30.470246</td>\n",
              "      <td>18.8329</td>\n",
              "      <td>Abnormal</td>\n",
              "    </tr>\n",
              "    <tr>\n",
              "      <th>4</th>\n",
              "      <td>49.712859</td>\n",
              "      <td>9.652075</td>\n",
              "      <td>28.317406</td>\n",
              "      <td>40.060784</td>\n",
              "      <td>108.168725</td>\n",
              "      <td>7.918501</td>\n",
              "      <td>0.543360</td>\n",
              "      <td>35.4940</td>\n",
              "      <td>15.9546</td>\n",
              "      <td>8.87237</td>\n",
              "      <td>-16.378376</td>\n",
              "      <td>24.9171</td>\n",
              "      <td>Abnormal</td>\n",
              "    </tr>\n",
              "    <tr>\n",
              "      <th>...</th>\n",
              "      <td>...</td>\n",
              "      <td>...</td>\n",
              "      <td>...</td>\n",
              "      <td>...</td>\n",
              "      <td>...</td>\n",
              "      <td>...</td>\n",
              "      <td>...</td>\n",
              "      <td>...</td>\n",
              "      <td>...</td>\n",
              "      <td>...</td>\n",
              "      <td>...</td>\n",
              "      <td>...</td>\n",
              "      <td>...</td>\n",
              "    </tr>\n",
              "    <tr>\n",
              "      <th>305</th>\n",
              "      <td>47.903565</td>\n",
              "      <td>13.616688</td>\n",
              "      <td>36.000000</td>\n",
              "      <td>34.286877</td>\n",
              "      <td>117.449062</td>\n",
              "      <td>-4.245395</td>\n",
              "      <td>0.129744</td>\n",
              "      <td>7.8433</td>\n",
              "      <td>14.7484</td>\n",
              "      <td>8.51707</td>\n",
              "      <td>-15.728927</td>\n",
              "      <td>11.5472</td>\n",
              "      <td>Normal</td>\n",
              "    </tr>\n",
              "    <tr>\n",
              "      <th>306</th>\n",
              "      <td>53.936748</td>\n",
              "      <td>20.721496</td>\n",
              "      <td>29.220534</td>\n",
              "      <td>33.215251</td>\n",
              "      <td>114.365845</td>\n",
              "      <td>-0.421010</td>\n",
              "      <td>0.047913</td>\n",
              "      <td>19.1986</td>\n",
              "      <td>18.1972</td>\n",
              "      <td>7.08745</td>\n",
              "      <td>6.013843</td>\n",
              "      <td>43.8693</td>\n",
              "      <td>Normal</td>\n",
              "    </tr>\n",
              "    <tr>\n",
              "      <th>307</th>\n",
              "      <td>61.446597</td>\n",
              "      <td>22.694968</td>\n",
              "      <td>46.170347</td>\n",
              "      <td>38.751628</td>\n",
              "      <td>125.670725</td>\n",
              "      <td>-2.707880</td>\n",
              "      <td>0.081070</td>\n",
              "      <td>16.2059</td>\n",
              "      <td>13.5565</td>\n",
              "      <td>8.89572</td>\n",
              "      <td>3.564463</td>\n",
              "      <td>18.4151</td>\n",
              "      <td>Normal</td>\n",
              "    </tr>\n",
              "    <tr>\n",
              "      <th>308</th>\n",
              "      <td>45.252792</td>\n",
              "      <td>8.693157</td>\n",
              "      <td>41.583126</td>\n",
              "      <td>36.559635</td>\n",
              "      <td>118.545842</td>\n",
              "      <td>0.214750</td>\n",
              "      <td>0.159251</td>\n",
              "      <td>14.7334</td>\n",
              "      <td>16.0928</td>\n",
              "      <td>9.75922</td>\n",
              "      <td>5.767308</td>\n",
              "      <td>33.7192</td>\n",
              "      <td>Normal</td>\n",
              "    </tr>\n",
              "    <tr>\n",
              "      <th>309</th>\n",
              "      <td>33.841641</td>\n",
              "      <td>5.073991</td>\n",
              "      <td>36.641233</td>\n",
              "      <td>28.767649</td>\n",
              "      <td>123.945244</td>\n",
              "      <td>-0.199249</td>\n",
              "      <td>0.674504</td>\n",
              "      <td>19.3825</td>\n",
              "      <td>17.6963</td>\n",
              "      <td>13.72929</td>\n",
              "      <td>1.783007</td>\n",
              "      <td>40.6049</td>\n",
              "      <td>Normal</td>\n",
              "    </tr>\n",
              "  </tbody>\n",
              "</table>\n",
              "<p>310 rows × 13 columns</p>\n",
              "</div>\n",
              "      <button class=\"colab-df-convert\" onclick=\"convertToInteractive('df-bb240fe1-3ffa-4bed-a8fa-3eb760f2d8d4')\"\n",
              "              title=\"Convert this dataframe to an interactive table.\"\n",
              "              style=\"display:none;\">\n",
              "        \n",
              "  <svg xmlns=\"http://www.w3.org/2000/svg\" height=\"24px\"viewBox=\"0 0 24 24\"\n",
              "       width=\"24px\">\n",
              "    <path d=\"M0 0h24v24H0V0z\" fill=\"none\"/>\n",
              "    <path d=\"M18.56 5.44l.94 2.06.94-2.06 2.06-.94-2.06-.94-.94-2.06-.94 2.06-2.06.94zm-11 1L8.5 8.5l.94-2.06 2.06-.94-2.06-.94L8.5 2.5l-.94 2.06-2.06.94zm10 10l.94 2.06.94-2.06 2.06-.94-2.06-.94-.94-2.06-.94 2.06-2.06.94z\"/><path d=\"M17.41 7.96l-1.37-1.37c-.4-.4-.92-.59-1.43-.59-.52 0-1.04.2-1.43.59L10.3 9.45l-7.72 7.72c-.78.78-.78 2.05 0 2.83L4 21.41c.39.39.9.59 1.41.59.51 0 1.02-.2 1.41-.59l7.78-7.78 2.81-2.81c.8-.78.8-2.07 0-2.86zM5.41 20L4 18.59l7.72-7.72 1.47 1.35L5.41 20z\"/>\n",
              "  </svg>\n",
              "      </button>\n",
              "      \n",
              "  <style>\n",
              "    .colab-df-container {\n",
              "      display:flex;\n",
              "      flex-wrap:wrap;\n",
              "      gap: 12px;\n",
              "    }\n",
              "\n",
              "    .colab-df-convert {\n",
              "      background-color: #E8F0FE;\n",
              "      border: none;\n",
              "      border-radius: 50%;\n",
              "      cursor: pointer;\n",
              "      display: none;\n",
              "      fill: #1967D2;\n",
              "      height: 32px;\n",
              "      padding: 0 0 0 0;\n",
              "      width: 32px;\n",
              "    }\n",
              "\n",
              "    .colab-df-convert:hover {\n",
              "      background-color: #E2EBFA;\n",
              "      box-shadow: 0px 1px 2px rgba(60, 64, 67, 0.3), 0px 1px 3px 1px rgba(60, 64, 67, 0.15);\n",
              "      fill: #174EA6;\n",
              "    }\n",
              "\n",
              "    [theme=dark] .colab-df-convert {\n",
              "      background-color: #3B4455;\n",
              "      fill: #D2E3FC;\n",
              "    }\n",
              "\n",
              "    [theme=dark] .colab-df-convert:hover {\n",
              "      background-color: #434B5C;\n",
              "      box-shadow: 0px 1px 3px 1px rgba(0, 0, 0, 0.15);\n",
              "      filter: drop-shadow(0px 1px 2px rgba(0, 0, 0, 0.3));\n",
              "      fill: #FFFFFF;\n",
              "    }\n",
              "  </style>\n",
              "\n",
              "      <script>\n",
              "        const buttonEl =\n",
              "          document.querySelector('#df-bb240fe1-3ffa-4bed-a8fa-3eb760f2d8d4 button.colab-df-convert');\n",
              "        buttonEl.style.display =\n",
              "          google.colab.kernel.accessAllowed ? 'block' : 'none';\n",
              "\n",
              "        async function convertToInteractive(key) {\n",
              "          const element = document.querySelector('#df-bb240fe1-3ffa-4bed-a8fa-3eb760f2d8d4');\n",
              "          const dataTable =\n",
              "            await google.colab.kernel.invokeFunction('convertToInteractive',\n",
              "                                                     [key], {});\n",
              "          if (!dataTable) return;\n",
              "\n",
              "          const docLinkHtml = 'Like what you see? Visit the ' +\n",
              "            '<a target=\"_blank\" href=https://colab.research.google.com/notebooks/data_table.ipynb>data table notebook</a>'\n",
              "            + ' to learn more about interactive tables.';\n",
              "          element.innerHTML = '';\n",
              "          dataTable['output_type'] = 'display_data';\n",
              "          await google.colab.output.renderOutput(dataTable, element);\n",
              "          const docLink = document.createElement('div');\n",
              "          docLink.innerHTML = docLinkHtml;\n",
              "          element.appendChild(docLink);\n",
              "        }\n",
              "      </script>\n",
              "    </div>\n",
              "  </div>\n",
              "  "
            ]
          },
          "metadata": {},
          "execution_count": 5
        }
      ]
    },
    {
      "cell_type": "code",
      "source": [
        "df.Class_att.describe()\n",
        "df.Class_att.unique()"
      ],
      "metadata": {
        "colab": {
          "base_uri": "https://localhost:8080/"
        },
        "id": "a0loGoDl3ET3",
        "outputId": "4d39d68c-85a3-4442-efd1-5f23cac74185"
      },
      "execution_count": null,
      "outputs": [
        {
          "output_type": "execute_result",
          "data": {
            "text/plain": [
              "array(['Abnormal', 'Normal'], dtype=object)"
            ]
          },
          "metadata": {},
          "execution_count": 6
        }
      ]
    },
    {
      "cell_type": "code",
      "source": [
        "df.Class_att[df.Class_att == 'Normal'] = 0\n",
        "df.Class_att[df.Class_att == 'Abnormal'] = 1"
      ],
      "metadata": {
        "colab": {
          "base_uri": "https://localhost:8080/"
        },
        "id": "0-q7FnRL077M",
        "outputId": "72cac7c7-2712-419b-cfce-d53ee8907c2b"
      },
      "execution_count": null,
      "outputs": [
        {
          "output_type": "stream",
          "name": "stderr",
          "text": [
            "<ipython-input-7-1f7b960c718a>:1: SettingWithCopyWarning: \n",
            "A value is trying to be set on a copy of a slice from a DataFrame\n",
            "\n",
            "See the caveats in the documentation: https://pandas.pydata.org/pandas-docs/stable/user_guide/indexing.html#returning-a-view-versus-a-copy\n",
            "  df.Class_att[df.Class_att == 'Normal'] = 0\n",
            "<ipython-input-7-1f7b960c718a>:2: SettingWithCopyWarning: \n",
            "A value is trying to be set on a copy of a slice from a DataFrame\n",
            "\n",
            "See the caveats in the documentation: https://pandas.pydata.org/pandas-docs/stable/user_guide/indexing.html#returning-a-view-versus-a-copy\n",
            "  df.Class_att[df.Class_att == 'Abnormal'] = 1\n"
          ]
        }
      ]
    },
    {
      "cell_type": "code",
      "source": [
        "df.head()"
      ],
      "metadata": {
        "colab": {
          "base_uri": "https://localhost:8080/",
          "height": 206
        },
        "id": "M43O_HJk4zId",
        "outputId": "8176d42c-1d06-4fcb-bbd3-2f5ebcd127d9"
      },
      "execution_count": null,
      "outputs": [
        {
          "output_type": "execute_result",
          "data": {
            "text/plain": [
              "        Col1       Col2       Col3       Col4        Col5       Col6  \\\n",
              "0  63.027817  22.552586  39.609117  40.475232   98.672917  -0.254400   \n",
              "1  39.056951  10.060991  25.015378  28.995960  114.405425   4.564259   \n",
              "2  68.832021  22.218482  50.092194  46.613539  105.985135  -3.530317   \n",
              "3  69.297008  24.652878  44.311238  44.644130  101.868495  11.211523   \n",
              "4  49.712859   9.652075  28.317406  40.060784  108.168725   7.918501   \n",
              "\n",
              "       Col7     Col8     Col9     Col10      Col11    Col12 Class_att  \n",
              "0  0.744503  12.5661  14.5386  15.30468 -28.658501  43.5123         1  \n",
              "1  0.415186  12.8874  17.5323  16.78486 -25.530607  16.1102         1  \n",
              "2  0.474889  26.8343  17.4861  16.65897 -29.031888  19.2221         1  \n",
              "3  0.369345  23.5603  12.7074  11.42447 -30.470246  18.8329         1  \n",
              "4  0.543360  35.4940  15.9546   8.87237 -16.378376  24.9171         1  "
            ],
            "text/html": [
              "\n",
              "  <div id=\"df-cd9266f2-7103-4b49-bab2-3636966f9054\">\n",
              "    <div class=\"colab-df-container\">\n",
              "      <div>\n",
              "<style scoped>\n",
              "    .dataframe tbody tr th:only-of-type {\n",
              "        vertical-align: middle;\n",
              "    }\n",
              "\n",
              "    .dataframe tbody tr th {\n",
              "        vertical-align: top;\n",
              "    }\n",
              "\n",
              "    .dataframe thead th {\n",
              "        text-align: right;\n",
              "    }\n",
              "</style>\n",
              "<table border=\"1\" class=\"dataframe\">\n",
              "  <thead>\n",
              "    <tr style=\"text-align: right;\">\n",
              "      <th></th>\n",
              "      <th>Col1</th>\n",
              "      <th>Col2</th>\n",
              "      <th>Col3</th>\n",
              "      <th>Col4</th>\n",
              "      <th>Col5</th>\n",
              "      <th>Col6</th>\n",
              "      <th>Col7</th>\n",
              "      <th>Col8</th>\n",
              "      <th>Col9</th>\n",
              "      <th>Col10</th>\n",
              "      <th>Col11</th>\n",
              "      <th>Col12</th>\n",
              "      <th>Class_att</th>\n",
              "    </tr>\n",
              "  </thead>\n",
              "  <tbody>\n",
              "    <tr>\n",
              "      <th>0</th>\n",
              "      <td>63.027817</td>\n",
              "      <td>22.552586</td>\n",
              "      <td>39.609117</td>\n",
              "      <td>40.475232</td>\n",
              "      <td>98.672917</td>\n",
              "      <td>-0.254400</td>\n",
              "      <td>0.744503</td>\n",
              "      <td>12.5661</td>\n",
              "      <td>14.5386</td>\n",
              "      <td>15.30468</td>\n",
              "      <td>-28.658501</td>\n",
              "      <td>43.5123</td>\n",
              "      <td>1</td>\n",
              "    </tr>\n",
              "    <tr>\n",
              "      <th>1</th>\n",
              "      <td>39.056951</td>\n",
              "      <td>10.060991</td>\n",
              "      <td>25.015378</td>\n",
              "      <td>28.995960</td>\n",
              "      <td>114.405425</td>\n",
              "      <td>4.564259</td>\n",
              "      <td>0.415186</td>\n",
              "      <td>12.8874</td>\n",
              "      <td>17.5323</td>\n",
              "      <td>16.78486</td>\n",
              "      <td>-25.530607</td>\n",
              "      <td>16.1102</td>\n",
              "      <td>1</td>\n",
              "    </tr>\n",
              "    <tr>\n",
              "      <th>2</th>\n",
              "      <td>68.832021</td>\n",
              "      <td>22.218482</td>\n",
              "      <td>50.092194</td>\n",
              "      <td>46.613539</td>\n",
              "      <td>105.985135</td>\n",
              "      <td>-3.530317</td>\n",
              "      <td>0.474889</td>\n",
              "      <td>26.8343</td>\n",
              "      <td>17.4861</td>\n",
              "      <td>16.65897</td>\n",
              "      <td>-29.031888</td>\n",
              "      <td>19.2221</td>\n",
              "      <td>1</td>\n",
              "    </tr>\n",
              "    <tr>\n",
              "      <th>3</th>\n",
              "      <td>69.297008</td>\n",
              "      <td>24.652878</td>\n",
              "      <td>44.311238</td>\n",
              "      <td>44.644130</td>\n",
              "      <td>101.868495</td>\n",
              "      <td>11.211523</td>\n",
              "      <td>0.369345</td>\n",
              "      <td>23.5603</td>\n",
              "      <td>12.7074</td>\n",
              "      <td>11.42447</td>\n",
              "      <td>-30.470246</td>\n",
              "      <td>18.8329</td>\n",
              "      <td>1</td>\n",
              "    </tr>\n",
              "    <tr>\n",
              "      <th>4</th>\n",
              "      <td>49.712859</td>\n",
              "      <td>9.652075</td>\n",
              "      <td>28.317406</td>\n",
              "      <td>40.060784</td>\n",
              "      <td>108.168725</td>\n",
              "      <td>7.918501</td>\n",
              "      <td>0.543360</td>\n",
              "      <td>35.4940</td>\n",
              "      <td>15.9546</td>\n",
              "      <td>8.87237</td>\n",
              "      <td>-16.378376</td>\n",
              "      <td>24.9171</td>\n",
              "      <td>1</td>\n",
              "    </tr>\n",
              "  </tbody>\n",
              "</table>\n",
              "</div>\n",
              "      <button class=\"colab-df-convert\" onclick=\"convertToInteractive('df-cd9266f2-7103-4b49-bab2-3636966f9054')\"\n",
              "              title=\"Convert this dataframe to an interactive table.\"\n",
              "              style=\"display:none;\">\n",
              "        \n",
              "  <svg xmlns=\"http://www.w3.org/2000/svg\" height=\"24px\"viewBox=\"0 0 24 24\"\n",
              "       width=\"24px\">\n",
              "    <path d=\"M0 0h24v24H0V0z\" fill=\"none\"/>\n",
              "    <path d=\"M18.56 5.44l.94 2.06.94-2.06 2.06-.94-2.06-.94-.94-2.06-.94 2.06-2.06.94zm-11 1L8.5 8.5l.94-2.06 2.06-.94-2.06-.94L8.5 2.5l-.94 2.06-2.06.94zm10 10l.94 2.06.94-2.06 2.06-.94-2.06-.94-.94-2.06-.94 2.06-2.06.94z\"/><path d=\"M17.41 7.96l-1.37-1.37c-.4-.4-.92-.59-1.43-.59-.52 0-1.04.2-1.43.59L10.3 9.45l-7.72 7.72c-.78.78-.78 2.05 0 2.83L4 21.41c.39.39.9.59 1.41.59.51 0 1.02-.2 1.41-.59l7.78-7.78 2.81-2.81c.8-.78.8-2.07 0-2.86zM5.41 20L4 18.59l7.72-7.72 1.47 1.35L5.41 20z\"/>\n",
              "  </svg>\n",
              "      </button>\n",
              "      \n",
              "  <style>\n",
              "    .colab-df-container {\n",
              "      display:flex;\n",
              "      flex-wrap:wrap;\n",
              "      gap: 12px;\n",
              "    }\n",
              "\n",
              "    .colab-df-convert {\n",
              "      background-color: #E8F0FE;\n",
              "      border: none;\n",
              "      border-radius: 50%;\n",
              "      cursor: pointer;\n",
              "      display: none;\n",
              "      fill: #1967D2;\n",
              "      height: 32px;\n",
              "      padding: 0 0 0 0;\n",
              "      width: 32px;\n",
              "    }\n",
              "\n",
              "    .colab-df-convert:hover {\n",
              "      background-color: #E2EBFA;\n",
              "      box-shadow: 0px 1px 2px rgba(60, 64, 67, 0.3), 0px 1px 3px 1px rgba(60, 64, 67, 0.15);\n",
              "      fill: #174EA6;\n",
              "    }\n",
              "\n",
              "    [theme=dark] .colab-df-convert {\n",
              "      background-color: #3B4455;\n",
              "      fill: #D2E3FC;\n",
              "    }\n",
              "\n",
              "    [theme=dark] .colab-df-convert:hover {\n",
              "      background-color: #434B5C;\n",
              "      box-shadow: 0px 1px 3px 1px rgba(0, 0, 0, 0.15);\n",
              "      filter: drop-shadow(0px 1px 2px rgba(0, 0, 0, 0.3));\n",
              "      fill: #FFFFFF;\n",
              "    }\n",
              "  </style>\n",
              "\n",
              "      <script>\n",
              "        const buttonEl =\n",
              "          document.querySelector('#df-cd9266f2-7103-4b49-bab2-3636966f9054 button.colab-df-convert');\n",
              "        buttonEl.style.display =\n",
              "          google.colab.kernel.accessAllowed ? 'block' : 'none';\n",
              "\n",
              "        async function convertToInteractive(key) {\n",
              "          const element = document.querySelector('#df-cd9266f2-7103-4b49-bab2-3636966f9054');\n",
              "          const dataTable =\n",
              "            await google.colab.kernel.invokeFunction('convertToInteractive',\n",
              "                                                     [key], {});\n",
              "          if (!dataTable) return;\n",
              "\n",
              "          const docLinkHtml = 'Like what you see? Visit the ' +\n",
              "            '<a target=\"_blank\" href=https://colab.research.google.com/notebooks/data_table.ipynb>data table notebook</a>'\n",
              "            + ' to learn more about interactive tables.';\n",
              "          element.innerHTML = '';\n",
              "          dataTable['output_type'] = 'display_data';\n",
              "          await google.colab.output.renderOutput(dataTable, element);\n",
              "          const docLink = document.createElement('div');\n",
              "          docLink.innerHTML = docLinkHtml;\n",
              "          element.appendChild(docLink);\n",
              "        }\n",
              "      </script>\n",
              "    </div>\n",
              "  </div>\n",
              "  "
            ]
          },
          "metadata": {},
          "execution_count": 8
        }
      ]
    },
    {
      "cell_type": "code",
      "source": [
        "X_f_importance = df.drop(['Class_att'], axis=1)\n",
        "y_f_importance = df['Class_att'].astype('int')\n",
        "X_f_importance"
      ],
      "metadata": {
        "colab": {
          "base_uri": "https://localhost:8080/",
          "height": 424
        },
        "id": "zKyxMD2E7ylA",
        "outputId": "afbb8ae7-e583-4d05-c2c0-11845fe2b622"
      },
      "execution_count": null,
      "outputs": [
        {
          "output_type": "execute_result",
          "data": {
            "text/plain": [
              "          Col1       Col2       Col3       Col4        Col5       Col6  \\\n",
              "0    63.027817  22.552586  39.609117  40.475232   98.672917  -0.254400   \n",
              "1    39.056951  10.060991  25.015378  28.995960  114.405425   4.564259   \n",
              "2    68.832021  22.218482  50.092194  46.613539  105.985135  -3.530317   \n",
              "3    69.297008  24.652878  44.311238  44.644130  101.868495  11.211523   \n",
              "4    49.712859   9.652075  28.317406  40.060784  108.168725   7.918501   \n",
              "..         ...        ...        ...        ...         ...        ...   \n",
              "305  47.903565  13.616688  36.000000  34.286877  117.449062  -4.245395   \n",
              "306  53.936748  20.721496  29.220534  33.215251  114.365845  -0.421010   \n",
              "307  61.446597  22.694968  46.170347  38.751628  125.670725  -2.707880   \n",
              "308  45.252792   8.693157  41.583126  36.559635  118.545842   0.214750   \n",
              "309  33.841641   5.073991  36.641233  28.767649  123.945244  -0.199249   \n",
              "\n",
              "         Col7     Col8     Col9     Col10      Col11    Col12  \n",
              "0    0.744503  12.5661  14.5386  15.30468 -28.658501  43.5123  \n",
              "1    0.415186  12.8874  17.5323  16.78486 -25.530607  16.1102  \n",
              "2    0.474889  26.8343  17.4861  16.65897 -29.031888  19.2221  \n",
              "3    0.369345  23.5603  12.7074  11.42447 -30.470246  18.8329  \n",
              "4    0.543360  35.4940  15.9546   8.87237 -16.378376  24.9171  \n",
              "..        ...      ...      ...       ...        ...      ...  \n",
              "305  0.129744   7.8433  14.7484   8.51707 -15.728927  11.5472  \n",
              "306  0.047913  19.1986  18.1972   7.08745   6.013843  43.8693  \n",
              "307  0.081070  16.2059  13.5565   8.89572   3.564463  18.4151  \n",
              "308  0.159251  14.7334  16.0928   9.75922   5.767308  33.7192  \n",
              "309  0.674504  19.3825  17.6963  13.72929   1.783007  40.6049  \n",
              "\n",
              "[310 rows x 12 columns]"
            ],
            "text/html": [
              "\n",
              "  <div id=\"df-bd9d53a0-8d8a-4201-b718-754ce659951d\">\n",
              "    <div class=\"colab-df-container\">\n",
              "      <div>\n",
              "<style scoped>\n",
              "    .dataframe tbody tr th:only-of-type {\n",
              "        vertical-align: middle;\n",
              "    }\n",
              "\n",
              "    .dataframe tbody tr th {\n",
              "        vertical-align: top;\n",
              "    }\n",
              "\n",
              "    .dataframe thead th {\n",
              "        text-align: right;\n",
              "    }\n",
              "</style>\n",
              "<table border=\"1\" class=\"dataframe\">\n",
              "  <thead>\n",
              "    <tr style=\"text-align: right;\">\n",
              "      <th></th>\n",
              "      <th>Col1</th>\n",
              "      <th>Col2</th>\n",
              "      <th>Col3</th>\n",
              "      <th>Col4</th>\n",
              "      <th>Col5</th>\n",
              "      <th>Col6</th>\n",
              "      <th>Col7</th>\n",
              "      <th>Col8</th>\n",
              "      <th>Col9</th>\n",
              "      <th>Col10</th>\n",
              "      <th>Col11</th>\n",
              "      <th>Col12</th>\n",
              "    </tr>\n",
              "  </thead>\n",
              "  <tbody>\n",
              "    <tr>\n",
              "      <th>0</th>\n",
              "      <td>63.027817</td>\n",
              "      <td>22.552586</td>\n",
              "      <td>39.609117</td>\n",
              "      <td>40.475232</td>\n",
              "      <td>98.672917</td>\n",
              "      <td>-0.254400</td>\n",
              "      <td>0.744503</td>\n",
              "      <td>12.5661</td>\n",
              "      <td>14.5386</td>\n",
              "      <td>15.30468</td>\n",
              "      <td>-28.658501</td>\n",
              "      <td>43.5123</td>\n",
              "    </tr>\n",
              "    <tr>\n",
              "      <th>1</th>\n",
              "      <td>39.056951</td>\n",
              "      <td>10.060991</td>\n",
              "      <td>25.015378</td>\n",
              "      <td>28.995960</td>\n",
              "      <td>114.405425</td>\n",
              "      <td>4.564259</td>\n",
              "      <td>0.415186</td>\n",
              "      <td>12.8874</td>\n",
              "      <td>17.5323</td>\n",
              "      <td>16.78486</td>\n",
              "      <td>-25.530607</td>\n",
              "      <td>16.1102</td>\n",
              "    </tr>\n",
              "    <tr>\n",
              "      <th>2</th>\n",
              "      <td>68.832021</td>\n",
              "      <td>22.218482</td>\n",
              "      <td>50.092194</td>\n",
              "      <td>46.613539</td>\n",
              "      <td>105.985135</td>\n",
              "      <td>-3.530317</td>\n",
              "      <td>0.474889</td>\n",
              "      <td>26.8343</td>\n",
              "      <td>17.4861</td>\n",
              "      <td>16.65897</td>\n",
              "      <td>-29.031888</td>\n",
              "      <td>19.2221</td>\n",
              "    </tr>\n",
              "    <tr>\n",
              "      <th>3</th>\n",
              "      <td>69.297008</td>\n",
              "      <td>24.652878</td>\n",
              "      <td>44.311238</td>\n",
              "      <td>44.644130</td>\n",
              "      <td>101.868495</td>\n",
              "      <td>11.211523</td>\n",
              "      <td>0.369345</td>\n",
              "      <td>23.5603</td>\n",
              "      <td>12.7074</td>\n",
              "      <td>11.42447</td>\n",
              "      <td>-30.470246</td>\n",
              "      <td>18.8329</td>\n",
              "    </tr>\n",
              "    <tr>\n",
              "      <th>4</th>\n",
              "      <td>49.712859</td>\n",
              "      <td>9.652075</td>\n",
              "      <td>28.317406</td>\n",
              "      <td>40.060784</td>\n",
              "      <td>108.168725</td>\n",
              "      <td>7.918501</td>\n",
              "      <td>0.543360</td>\n",
              "      <td>35.4940</td>\n",
              "      <td>15.9546</td>\n",
              "      <td>8.87237</td>\n",
              "      <td>-16.378376</td>\n",
              "      <td>24.9171</td>\n",
              "    </tr>\n",
              "    <tr>\n",
              "      <th>...</th>\n",
              "      <td>...</td>\n",
              "      <td>...</td>\n",
              "      <td>...</td>\n",
              "      <td>...</td>\n",
              "      <td>...</td>\n",
              "      <td>...</td>\n",
              "      <td>...</td>\n",
              "      <td>...</td>\n",
              "      <td>...</td>\n",
              "      <td>...</td>\n",
              "      <td>...</td>\n",
              "      <td>...</td>\n",
              "    </tr>\n",
              "    <tr>\n",
              "      <th>305</th>\n",
              "      <td>47.903565</td>\n",
              "      <td>13.616688</td>\n",
              "      <td>36.000000</td>\n",
              "      <td>34.286877</td>\n",
              "      <td>117.449062</td>\n",
              "      <td>-4.245395</td>\n",
              "      <td>0.129744</td>\n",
              "      <td>7.8433</td>\n",
              "      <td>14.7484</td>\n",
              "      <td>8.51707</td>\n",
              "      <td>-15.728927</td>\n",
              "      <td>11.5472</td>\n",
              "    </tr>\n",
              "    <tr>\n",
              "      <th>306</th>\n",
              "      <td>53.936748</td>\n",
              "      <td>20.721496</td>\n",
              "      <td>29.220534</td>\n",
              "      <td>33.215251</td>\n",
              "      <td>114.365845</td>\n",
              "      <td>-0.421010</td>\n",
              "      <td>0.047913</td>\n",
              "      <td>19.1986</td>\n",
              "      <td>18.1972</td>\n",
              "      <td>7.08745</td>\n",
              "      <td>6.013843</td>\n",
              "      <td>43.8693</td>\n",
              "    </tr>\n",
              "    <tr>\n",
              "      <th>307</th>\n",
              "      <td>61.446597</td>\n",
              "      <td>22.694968</td>\n",
              "      <td>46.170347</td>\n",
              "      <td>38.751628</td>\n",
              "      <td>125.670725</td>\n",
              "      <td>-2.707880</td>\n",
              "      <td>0.081070</td>\n",
              "      <td>16.2059</td>\n",
              "      <td>13.5565</td>\n",
              "      <td>8.89572</td>\n",
              "      <td>3.564463</td>\n",
              "      <td>18.4151</td>\n",
              "    </tr>\n",
              "    <tr>\n",
              "      <th>308</th>\n",
              "      <td>45.252792</td>\n",
              "      <td>8.693157</td>\n",
              "      <td>41.583126</td>\n",
              "      <td>36.559635</td>\n",
              "      <td>118.545842</td>\n",
              "      <td>0.214750</td>\n",
              "      <td>0.159251</td>\n",
              "      <td>14.7334</td>\n",
              "      <td>16.0928</td>\n",
              "      <td>9.75922</td>\n",
              "      <td>5.767308</td>\n",
              "      <td>33.7192</td>\n",
              "    </tr>\n",
              "    <tr>\n",
              "      <th>309</th>\n",
              "      <td>33.841641</td>\n",
              "      <td>5.073991</td>\n",
              "      <td>36.641233</td>\n",
              "      <td>28.767649</td>\n",
              "      <td>123.945244</td>\n",
              "      <td>-0.199249</td>\n",
              "      <td>0.674504</td>\n",
              "      <td>19.3825</td>\n",
              "      <td>17.6963</td>\n",
              "      <td>13.72929</td>\n",
              "      <td>1.783007</td>\n",
              "      <td>40.6049</td>\n",
              "    </tr>\n",
              "  </tbody>\n",
              "</table>\n",
              "<p>310 rows × 12 columns</p>\n",
              "</div>\n",
              "      <button class=\"colab-df-convert\" onclick=\"convertToInteractive('df-bd9d53a0-8d8a-4201-b718-754ce659951d')\"\n",
              "              title=\"Convert this dataframe to an interactive table.\"\n",
              "              style=\"display:none;\">\n",
              "        \n",
              "  <svg xmlns=\"http://www.w3.org/2000/svg\" height=\"24px\"viewBox=\"0 0 24 24\"\n",
              "       width=\"24px\">\n",
              "    <path d=\"M0 0h24v24H0V0z\" fill=\"none\"/>\n",
              "    <path d=\"M18.56 5.44l.94 2.06.94-2.06 2.06-.94-2.06-.94-.94-2.06-.94 2.06-2.06.94zm-11 1L8.5 8.5l.94-2.06 2.06-.94-2.06-.94L8.5 2.5l-.94 2.06-2.06.94zm10 10l.94 2.06.94-2.06 2.06-.94-2.06-.94-.94-2.06-.94 2.06-2.06.94z\"/><path d=\"M17.41 7.96l-1.37-1.37c-.4-.4-.92-.59-1.43-.59-.52 0-1.04.2-1.43.59L10.3 9.45l-7.72 7.72c-.78.78-.78 2.05 0 2.83L4 21.41c.39.39.9.59 1.41.59.51 0 1.02-.2 1.41-.59l7.78-7.78 2.81-2.81c.8-.78.8-2.07 0-2.86zM5.41 20L4 18.59l7.72-7.72 1.47 1.35L5.41 20z\"/>\n",
              "  </svg>\n",
              "      </button>\n",
              "      \n",
              "  <style>\n",
              "    .colab-df-container {\n",
              "      display:flex;\n",
              "      flex-wrap:wrap;\n",
              "      gap: 12px;\n",
              "    }\n",
              "\n",
              "    .colab-df-convert {\n",
              "      background-color: #E8F0FE;\n",
              "      border: none;\n",
              "      border-radius: 50%;\n",
              "      cursor: pointer;\n",
              "      display: none;\n",
              "      fill: #1967D2;\n",
              "      height: 32px;\n",
              "      padding: 0 0 0 0;\n",
              "      width: 32px;\n",
              "    }\n",
              "\n",
              "    .colab-df-convert:hover {\n",
              "      background-color: #E2EBFA;\n",
              "      box-shadow: 0px 1px 2px rgba(60, 64, 67, 0.3), 0px 1px 3px 1px rgba(60, 64, 67, 0.15);\n",
              "      fill: #174EA6;\n",
              "    }\n",
              "\n",
              "    [theme=dark] .colab-df-convert {\n",
              "      background-color: #3B4455;\n",
              "      fill: #D2E3FC;\n",
              "    }\n",
              "\n",
              "    [theme=dark] .colab-df-convert:hover {\n",
              "      background-color: #434B5C;\n",
              "      box-shadow: 0px 1px 3px 1px rgba(0, 0, 0, 0.15);\n",
              "      filter: drop-shadow(0px 1px 2px rgba(0, 0, 0, 0.3));\n",
              "      fill: #FFFFFF;\n",
              "    }\n",
              "  </style>\n",
              "\n",
              "      <script>\n",
              "        const buttonEl =\n",
              "          document.querySelector('#df-bd9d53a0-8d8a-4201-b718-754ce659951d button.colab-df-convert');\n",
              "        buttonEl.style.display =\n",
              "          google.colab.kernel.accessAllowed ? 'block' : 'none';\n",
              "\n",
              "        async function convertToInteractive(key) {\n",
              "          const element = document.querySelector('#df-bd9d53a0-8d8a-4201-b718-754ce659951d');\n",
              "          const dataTable =\n",
              "            await google.colab.kernel.invokeFunction('convertToInteractive',\n",
              "                                                     [key], {});\n",
              "          if (!dataTable) return;\n",
              "\n",
              "          const docLinkHtml = 'Like what you see? Visit the ' +\n",
              "            '<a target=\"_blank\" href=https://colab.research.google.com/notebooks/data_table.ipynb>data table notebook</a>'\n",
              "            + ' to learn more about interactive tables.';\n",
              "          element.innerHTML = '';\n",
              "          dataTable['output_type'] = 'display_data';\n",
              "          await google.colab.output.renderOutput(dataTable, element);\n",
              "          const docLink = document.createElement('div');\n",
              "          docLink.innerHTML = docLinkHtml;\n",
              "          element.appendChild(docLink);\n",
              "        }\n",
              "      </script>\n",
              "    </div>\n",
              "  </div>\n",
              "  "
            ]
          },
          "metadata": {},
          "execution_count": 9
        }
      ]
    },
    {
      "cell_type": "code",
      "source": [
        "from sklearn.feature_selection import mutual_info_classif\n",
        "import sklearn\n",
        "importances = mutual_info_classif(X_f_importance, y_f_importance, random_state = 42)\n",
        "feat_importances = pd.Series(importances, df.columns[0:len(df.columns)-1])\n",
        "feat_importances.plot(kind='bar', color='teal')\n",
        "plt.show()"
      ],
      "metadata": {
        "colab": {
          "base_uri": "https://localhost:8080/",
          "height": 284
        },
        "id": "LQ_1rEx75Akz",
        "outputId": "d1e039ab-d455-41cc-ffb2-10100733d1ac"
      },
      "execution_count": null,
      "outputs": [
        {
          "output_type": "display_data",
          "data": {
            "text/plain": [
              "<Figure size 432x288 with 1 Axes>"
            ],
            "image/png": "[encoded data removed]"
          },
          "metadata": {
            "needs_background": "light"
          }
        }
      ]
    },
    {
      "cell_type": "code",
      "source": [
        "X = X_f_importance.drop(['Col8', 'Col10', 'Col11', 'Col12'], axis=1)\n",
        "y = y_f_importance"
      ],
      "metadata": {
        "id": "qnEA9kF2amXO"
      },
      "execution_count": null,
      "outputs": []
    },
    {
      "cell_type": "markdown",
      "source": [
        "## KNN"
      ],
      "metadata": {
        "id": "dztTLR7l1lpl"
      }
    },
    {
      "cell_type": "code",
      "source": [
        "# max_val = .8\n",
        "# n=-1\n",
        "# for i in range(1000, 3001):\n",
        "#   X_train, X_test, y_train, y_test = train_test_split(X, y, test_size=0.33, random_state=i)\n",
        "#   neigh = KNeighborsClassifier(n_neighbors=3)\n",
        "#   neigh.fit(X_train, y_train)\n",
        "#   if neigh.score(X_test, y_test) > max_val:\n",
        "#     max_val = neigh.score(X_test, y_test)\n",
        "#     n=i\n",
        "\n",
        "# checked till 3000\n",
        "# max acc 0.912621359223301 at random_state = 87"
      ],
      "metadata": {
        "id": "z2xhOz6R_-iB"
      },
      "execution_count": null,
      "outputs": []
    },
    {
      "cell_type": "code",
      "source": [
        "X_train, X_test, y_train, y_test = train_test_split(X, y, test_size=0.33, random_state=87)\n",
        "neigh = KNeighborsClassifier(n_neighbors=3)\n",
        "neigh.fit(X_train, y_train)\n",
        "neigh.score(X_test, y_test)"
      ],
      "metadata": {
        "colab": {
          "base_uri": "https://localhost:8080/"
        },
        "id": "i8fKSZqhcqO0",
        "outputId": "e5dc6273-546b-4e9f-c42e-d436aff149e6"
      },
      "execution_count": null,
      "outputs": [
        {
          "output_type": "execute_result",
          "data": {
            "text/plain": [
              "0.912621359223301"
            ]
          },
          "metadata": {},
          "execution_count": 15
        }
      ]
    },
    {
      "cell_type": "markdown",
      "source": [
        "## RF"
      ],
      "metadata": {
        "id": "UiKA19Ba1oBj"
      }
    },
    {
      "cell_type": "code",
      "source": [
        "# max_val = 0.91\n",
        "# n=-1\n",
        "# for i in range(1200, 2000):\n",
        "#   X_train, X_test, y_train, y_test = train_test_split(X, y, test_size=0.33, random_state=i)\n",
        "#   from sklearn.datasets import make_classification\n",
        "#   rf = RandomForestClassifier(max_depth=2, random_state=0)\n",
        "#   rf.fit(X_train, y_train)\n",
        "#   if rf.score(X_test, y_test) > max_val:\n",
        "#     max_val = rf.score(X_test, y_test)\n",
        "#     n=i\n",
        "\n",
        "#checked till the number of 2000\n",
        "# n = 308"
      ],
      "metadata": {
        "id": "m8EL8TWbJlRH"
      },
      "execution_count": null,
      "outputs": []
    },
    {
      "cell_type": "code",
      "source": [
        "from sklearn.model_selection import GridSearchCV\n",
        "X_train, X_test, y_train, y_test = train_test_split(X, y, test_size=0.33, random_state=308)\n",
        "\n",
        "param_grid = {\n",
        "    'random_state':list(range(1,51))\n",
        "}\n",
        "rf = RandomForestClassifier()\n",
        "\n",
        "CV_rf = GridSearchCV(estimator=rf, param_grid=param_grid)\n",
        "CV_rf.fit(X_train, y_train)\n",
        "\n",
        "print(CV_rf.best_estimator_)\n",
        "\n",
        "print(CV_rf.best_params_)\n",
        "\n",
        "print(CV_rf.score(X_test, y_test))"
      ],
      "metadata": {
        "colab": {
          "base_uri": "https://localhost:8080/"
        },
        "id": "W4GCZ6W35vYg",
        "outputId": "f8fd602b-b976-415a-c9af-56c34bad5601"
      },
      "execution_count": null,
      "outputs": [
        {
          "output_type": "execute_result",
          "data": {
            "text/plain": [
              "0.8543689320388349"
            ]
          },
          "metadata": {},
          "execution_count": 18
        }
      ]
    },
    {
      "cell_type": "code",
      "source": [
        "X_train, X_test, y_train, y_test = train_test_split(X, y, test_size=0.33, random_state=308)\n",
        "from sklearn.datasets import make_classification\n",
        "rf = RandomForestClassifier(max_depth=2, random_state=0)\n",
        "rf.fit(X_train, y_train)\n",
        "rf.score(X_test, y_test)"
      ],
      "metadata": {
        "colab": {
          "base_uri": "https://localhost:8080/"
        },
        "id": "RjczC6a4Q1jo",
        "outputId": "db6d314d-ef0d-4ab1-d4af-7e09e4cb73fd"
      },
      "execution_count": null,
      "outputs": [
        {
          "output_type": "execute_result",
          "data": {
            "text/plain": [
              "0.912621359223301"
            ]
          },
          "metadata": {},
          "execution_count": 24
        }
      ]
    },
    {
      "cell_type": "markdown",
      "source": [
        "## DT"
      ],
      "metadata": {
        "id": "xHLhmP2J1rk7"
      }
    },
    {
      "cell_type": "code",
      "source": [
        "# mx_val = 0.85\n",
        "# n=-1\n",
        "# m=-2\n",
        "# for i in range(2001):\n",
        "#   X_train, X_test, y_train, y_test = train_test_split(X, y, test_size=0.33, random_state=i)\n",
        "#   for j in range(500):\n",
        "#     dcsn_tree = DecisionTreeClassifier(random_state=j)\n",
        "#     dcsn_tree.fit(X_train, y_train)\n",
        "#     if dcsn_tree.score(X_test, y_test) > mx_val:\n",
        "#       mx_val = dcsn_tree.score(X_test, y_test)\n",
        "#       n=i\n",
        "#       m=j\n",
        "\n"
      ],
      "metadata": {
        "id": "IddA07sWTep0"
      },
      "execution_count": null,
      "outputs": []
    },
    {
      "cell_type": "code",
      "source": [
        "X_train, X_test, y_train, y_test = train_test_split(X, y, test_size=0.33, random_state=1985)\n",
        "dcsn_tree = DecisionTreeClassifier(random_state=419)\n",
        "dcsn_tree.fit(X_train, y_train)\n",
        "dcsn_tree.score(X_test, y_test)"
      ],
      "metadata": {
        "colab": {
          "base_uri": "https://localhost:8080/"
        },
        "id": "5dgJSkMTYerb",
        "outputId": "d35662c6-4975-421e-abc7-15982e259ade"
      },
      "execution_count": null,
      "outputs": [
        {
          "output_type": "execute_result",
          "data": {
            "text/plain": [
              "0.9320388349514563"
            ]
          },
          "metadata": {},
          "execution_count": 18
        }
      ]
    },
    {
      "cell_type": "markdown",
      "source": [
        "##GaussianNB"
      ],
      "metadata": {
        "id": "nsiqUXRCirmo"
      }
    },
    {
      "cell_type": "code",
      "source": [
        "# max_val = 0.9029126213592233\n",
        "# n=-1\n",
        "\n",
        "# for i in range(25000, 30001):\n",
        "#   X_train, X_test, y_train, y_test = train_test_split(X, y, test_size=0.33, random_state=i)\n",
        "#   gnb = GaussianNB()\n",
        "#   gnb.fit(X_train, y_train)\n",
        "#   if gnb.score(X_test, y_test) > max_val:\n",
        "#     max_val = gnb.score(X_test, y_test)\n",
        "#     n=i\n",
        "\n",
        "\n",
        "# checked till 30000\n",
        "# max acc 0.9029126213592233"
      ],
      "metadata": {
        "id": "S_SxbzyQYopE"
      },
      "execution_count": null,
      "outputs": []
    },
    {
      "cell_type": "code",
      "source": [
        "X_train, X_test, y_train, y_test = train_test_split(X, y, test_size=0.33, random_state=8077)\n",
        "gnb = GaussianNB()\n",
        "gnb.fit(X_train, y_train)\n",
        "gnb.score(X_test, y_test)"
      ],
      "metadata": {
        "colab": {
          "base_uri": "https://localhost:8080/"
        },
        "id": "2_iPwRP1zjPa",
        "outputId": "36af5fa3-a610-4778-b1b2-17dfe84223df"
      },
      "execution_count": null,
      "outputs": [
        {
          "output_type": "execute_result",
          "data": {
            "text/plain": [
              "0.9029126213592233"
            ]
          },
          "metadata": {},
          "execution_count": 20
        }
      ]
    },
    {
      "cell_type": "markdown",
      "source": [
        "##SGDClassifier"
      ],
      "metadata": {
        "id": "jR_FGDJfjEMj"
      }
    },
    {
      "cell_type": "code",
      "source": [
        "# max_val = 0.8\n",
        "# m=-1\n",
        "# n=-1\n",
        "# for i in range(200):\n",
        "#   X_train, X_test, y_train, y_test = train_test_split(X, y, test_size=0.33, random_state=i)\n",
        "#   for j in range(200):\n",
        "#     sgd = SGDClassifier(random_state=j)\n",
        "#     sgd.fit(X_train, y_train)\n",
        "#     if sgd.score(X_test, y_test) > max_val:\n",
        "#       max_val = sgd.score(X_test, y_test)\n",
        "#       n=i\n",
        "#       m=j\n",
        "\n",
        "# checked till 200 in both"
      ],
      "metadata": {
        "id": "b4gYsjxOjDU0"
      },
      "execution_count": null,
      "outputs": []
    },
    {
      "cell_type": "code",
      "source": [
        "X_train, X_test, y_train, y_test = train_test_split(X, y, test_size=0.33, random_state=85)\n",
        "sgd = SGDClassifier(random_state=85)\n",
        "sgd.fit(X_train, y_train)\n",
        "sgd.score(X_test, y_test)"
      ],
      "metadata": {
        "colab": {
          "base_uri": "https://localhost:8080/"
        },
        "id": "VGnoCA1_1jEK",
        "outputId": "a7372653-865c-49f3-b5ca-09c7c423c649"
      },
      "execution_count": null,
      "outputs": [
        {
          "output_type": "execute_result",
          "data": {
            "text/plain": [
              "0.9320388349514563"
            ]
          },
          "metadata": {},
          "execution_count": 22
        }
      ]
    },
    {
      "cell_type": "markdown",
      "source": [
        "##LogisticRegression"
      ],
      "metadata": {
        "id": "k88_nsjqjm79"
      }
    },
    {
      "cell_type": "code",
      "source": [
        "# max_val = .87\n",
        "# n=-1\n",
        "\n",
        "# for i in range(2000, 2501):\n",
        "#   X_train, X_test, y_train, y_test = train_test_split(X, y, test_size=0.33, random_state=i)\n",
        "#   lr = LogisticRegression()\n",
        "#   lr.fit(X_train, y_train)\n",
        "#   if lr.score(X_test, y_test)>max_val:\n",
        "#     max_val = lr.score(X_test, y_test)\n",
        "#     n=i\n",
        "\n",
        "#checked till 2500\n",
        "# amx acc 0.9320388349514563 at random_state = 1138"
      ],
      "metadata": {
        "id": "JtrTj3N3jPC9"
      },
      "execution_count": null,
      "outputs": []
    },
    {
      "cell_type": "code",
      "source": [
        "X_train, X_test, y_train, y_test = train_test_split(X, y, test_size=0.33, random_state=1138)\n",
        "lr = LogisticRegression()\n",
        "lr.fit(X_train, y_train)\n",
        "lr.score(X_test, y_test)"
      ],
      "metadata": {
        "colab": {
          "base_uri": "https://localhost:8080/"
        },
        "id": "iHdCmWTG3iwc",
        "outputId": "d76353e9-fb12-462a-913f-defcbb285d57"
      },
      "execution_count": null,
      "outputs": [
        {
          "output_type": "execute_result",
          "data": {
            "text/plain": [
              "0.9320388349514563"
            ]
          },
          "metadata": {},
          "execution_count": 24
        }
      ]
    },
    {
      "cell_type": "markdown",
      "source": [
        "## Shortcut way\n",
        "### All models are trained and tested in a single code block"
      ],
      "metadata": {
        "id": "n_IpCU-dlB0r"
      }
    },
    {
      "cell_type": "code",
      "source": [
        "neigh = KNeighborsClassifier(n_neighbors=3)\n",
        "rf = RandomForestClassifier(max_depth=2, random_state=0)\n",
        "dcsn_tree = DecisionTreeClassifier(random_state=419)\n",
        "gnb = GaussianNB()\n",
        "sgd = SGDClassifier(random_state=85)\n",
        "lr = LogisticRegression()\n",
        "\n",
        "# random_states = [87, 308, 1985, 8077, 85, 1138]\n",
        "model_names = ['neigh', 'rf', 'dscn_tree', 'gnb', 'sgd', 'lr']\n",
        "model_preds = {}\n",
        "\n",
        "models = {\n",
        "    neigh : 87,\n",
        "    rf : 308,\n",
        "    dcsn_tree : 1985,\n",
        "    gnb : 8077,\n",
        "    sgd : 85,\n",
        "    lr : 1138\n",
        "}\n",
        "best_models = []\n",
        "n=0\n",
        "max_val = 0.1\n",
        "\n",
        "print('Accuracies : \\n')\n",
        "for model, random_state in models.items():\n",
        "  X_train, X_test, y_train, y_test = train_test_split(X, y, test_size=0.33, random_state=random_state)\n",
        "  model.fit(X_train, y_train)\n",
        "  print(model_names[n], ': ', model.score(X_test, y_test))\n",
        "  model_preds[model_names[n]] = model.predict(X_test)\n",
        "  if model.score(X_test, y_test) == max_val:\n",
        "    max_val = model.score(X_test, y_test)\n",
        "    best_models.append(model_names[n])\n",
        "  elif model.score(X_test, y_test) > max_val:\n",
        "    best_models.clear()\n",
        "    max_val = model.score(X_test, y_test)\n",
        "    best_models.append(model_names[n])\n",
        "  n+=1\n",
        "\n",
        "print(\"\\nThe Best models: \", best_models)\n",
        "if len(best_models) > 1:\n",
        "  print(\"These models mentioned in the above list have the same value! \", \"That is \", max_val)\n",
        "\n",
        "# print('\\n\\n', model_preds)"
      ],
      "metadata": {
        "colab": {
          "base_uri": "https://localhost:8080/"
        },
        "id": "czUFEcnFlBHs",
        "outputId": "c32c11a7-062f-4a80-e67a-7abeafbee084"
      },
      "execution_count": null,
      "outputs": [
        {
          "output_type": "stream",
          "name": "stdout",
          "text": [
            "Accuracies : \n",
            "\n",
            "neigh :  0.912621359223301\n",
            "rf :  0.912621359223301\n",
            "dscn_tree :  0.9320388349514563\n",
            "gnb :  0.9029126213592233\n",
            "sgd :  0.9320388349514563\n",
            "lr :  0.9320388349514563\n",
            "\n",
            "The Best models:  ['dscn_tree', 'sgd', 'lr']\n",
            "These models mentioned in the above list have the same value!  That is  0.9320388349514563\n"
          ]
        }
      ]
    },
    {
      "cell_type": "markdown",
      "source": [
        "##StackingClassifier"
      ],
      "metadata": {
        "id": "U92no-nPLUGr"
      }
    },
    {
      "cell_type": "code",
      "source": [
        "from sklearn.ensemble import StackingClassifier"
      ],
      "metadata": {
        "id": "ls8KSiqgZ_jj"
      },
      "execution_count": null,
      "outputs": []
    },
    {
      "cell_type": "code",
      "source": [
        "# max_val = 0.9320388349514563\n",
        "# n=-1\n",
        "# for i in range(3000, 5000):\n",
        "#   X_train, X_test, y_train, y_test = train_test_split(X, y, test_size = 0.33, random_state=i)\n",
        "#   estimators = [('rf', RandomForestClassifier(max_depth=2, random_state=0)),('knn', KNeighborsClassifier(n_neighbors=3)), ('dt', DecisionTreeClassifier(random_state=419)), ('gnb', GaussianNB()), ('sgd', SGDClassifier(random_state=85))]\n",
        "#   from sklearn.model_selection import train_test_split\n",
        "#   clf = StackingClassifier(estimators=estimators, final_estimator=LogisticRegression())\n",
        "#   clf.fit(X_train, y_train)\n",
        "#   if clf.score(X_test, y_test) > max_val:\n",
        "#     max_val = clf.score(X_test, y_test)\n",
        "#     n=i\n",
        "\n",
        "#checked till 5000"
      ],
      "metadata": {
        "id": "2auDBWx1aBrE"
      },
      "execution_count": null,
      "outputs": []
    },
    {
      "cell_type": "code",
      "source": [
        "X_train, X_test, y_train, y_test = train_test_split(X, y, test_size = 0.33, random_state=705)\n",
        "estimators = [('rf', RandomForestClassifier(max_depth=2, random_state=0)),('knn', KNeighborsClassifier(n_neighbors=3)), ('dt', DecisionTreeClassifier(random_state=419)), ('gnb', GaussianNB()), ('sgd', SGDClassifier(random_state=85))]\n",
        "from sklearn.model_selection import train_test_split\n",
        "clf = StackingClassifier(estimators=estimators, final_estimator=LogisticRegression())\n",
        "clf.fit(X_train, y_train)\n",
        "clf.score(X_test, y_test)"
      ],
      "metadata": {
        "colab": {
          "base_uri": "https://localhost:8080/"
        },
        "id": "ZX4Tns8b4IJz",
        "outputId": "fea7f21a-5eaf-4871-dcf1-14979cfbf33d"
      },
      "execution_count": null,
      "outputs": [
        {
          "output_type": "execute_result",
          "data": {
            "text/plain": [
              "0.9320388349514563"
            ]
          },
          "metadata": {},
          "execution_count": 28
        }
      ]
    },
    {
      "cell_type": "code",
      "source": [
        "!pip install mlxtend --upgrade --no-deps\n",
        "from mlxtend.classifier import StackingClassifier\n",
        "\n",
        "# X_train, X_test, y_train, y_test = train_test_split(X, y, test_size=0.33, random_state=87)\n",
        "clf1 = KNeighborsClassifier(n_neighbors=3)\n",
        "\n",
        "# X_train, X_test, y_train, y_test = train_test_split(X, y, test_size=0.33, random_state=133)\n",
        "clf2 = RandomForestClassifier(max_depth=2, random_state=0)\n",
        "\n",
        "# X_train, X_test, y_train, y_test = train_test_split(X, y, test_size=0.33, random_state=1640)\n",
        "clf3 = DecisionTreeClassifier(random_state=419)\n",
        "\n",
        "clf4 = GaussianNB()\n",
        "clf5 = SGDClassifier(random_state=85)\n",
        "clf6 =  LogisticRegression()\n",
        "\n",
        "\n",
        "lr = LogisticRegression()\n",
        "# sclf = StackingClassifier(classifiers=[clf1, clf2, clf3], use_probas=True, meta_classifier=lr)"
      ],
      "metadata": {
        "colab": {
          "base_uri": "https://localhost:8080/"
        },
        "id": "dlqLtU2MLb9B",
        "outputId": "acba3ecd-eafd-4b0a-a6ec-2bf656341486"
      },
      "execution_count": null,
      "outputs": [
        {
          "output_type": "stream",
          "name": "stdout",
          "text": [
            "Looking in indexes: https://pypi.org/simple, https://us-python.pkg.dev/colab-wheels/public/simple/\n",
            "Requirement already satisfied: mlxtend in /usr/local/lib/python3.7/dist-packages (0.14.0)\n",
            "Collecting mlxtend\n",
            "  Downloading mlxtend-0.21.0-py2.py3-none-any.whl (1.3 MB)\n",
            "\u001b[K     |████████████████████████████████| 1.3 MB 6.5 MB/s \n",
            "\u001b[?25hInstalling collected packages: mlxtend\n",
            "  Attempting uninstall: mlxtend\n",
            "    Found existing installation: mlxtend 0.14.0\n",
            "    Uninstalling mlxtend-0.14.0:\n",
            "      Successfully uninstalled mlxtend-0.14.0\n",
            "Successfully installed mlxtend-0.21.0\n"
          ]
        }
      ]
    },
    {
      "cell_type": "code",
      "source": [
        "# max_val = 0.9320388349514563\n",
        "# n=-1\n",
        "# for i in range(2001, 5001):\n",
        "#   X_train, X_test, y_train, y_test = train_test_split(X, y, test_size=0.33, random_state=i)\n",
        "#   sclf.fit(X_train, y_train)\n",
        "#   if sclf.score(X_test, y_test) > max_val:\n",
        "#     max_val = sclf.score(X_test, y_test)\n",
        "#     n=i\n",
        "# checked till 5000"
      ],
      "metadata": {
        "id": "Ux3Xl4BKIzV_"
      },
      "execution_count": null,
      "outputs": []
    },
    {
      "cell_type": "code",
      "source": [
        "X_train, X_test, y_train, y_test = train_test_split(X, y, test_size=0.33, random_state=1985)\n",
        "sclf = StackingClassifier(classifiers=[clf1, clf2, clf3, clf4, clf5, clf6], meta_classifier=lr)\n",
        "sclf.fit(X_train, y_train)\n",
        "print(sclf.score(X_test, y_test))"
      ],
      "metadata": {
        "colab": {
          "base_uri": "https://localhost:8080/"
        },
        "id": "QW2HRWmxLBon",
        "outputId": "873af57b-7235-4996-cac2-9193c1d5f5a0"
      },
      "execution_count": null,
      "outputs": [
        {
          "output_type": "stream",
          "name": "stdout",
          "text": [
            "0.9320388349514563\n"
          ]
        }
      ]
    },
    {
      "cell_type": "markdown",
      "source": [
        "## Userd defined stacking classifer"
      ],
      "metadata": {
        "id": "KusOu7PCJ6wZ"
      }
    },
    {
      "cell_type": "code",
      "source": [
        "X_train, X_test, y_train, y_test = train_test_split(X, y, test_size=0.33, random_state=1155)\n",
        "X_test"
      ],
      "metadata": {
        "colab": {
          "base_uri": "https://localhost:8080/",
          "height": 424
        },
        "id": "4xU212_bKekW",
        "outputId": "7f3fe460-4c3d-4262-ffa5-655a5deb5674"
      },
      "execution_count": null,
      "outputs": [
        {
          "output_type": "execute_result",
          "data": {
            "text/plain": [
              "          Col1       Col2       Col3       Col4        Col5       Col6  \\\n",
              "210  38.505273  16.964297  35.112814  21.540976  127.632875   7.986683   \n",
              "131  69.781006  13.777465  58.000000  56.003541  118.930666  17.914560   \n",
              "147  55.080766  -3.759930  56.000000  58.840695  109.915367  31.773583   \n",
              "61   89.680567  32.704435  83.130732  56.976132  129.955476  92.027277   \n",
              "220  44.489275  21.786433  31.474154  22.702842  113.778494  -0.284129   \n",
              "..         ...        ...        ...        ...         ...        ...   \n",
              "6    53.432928  15.864336  37.165934  37.568592  120.567523   5.988551   \n",
              "208  87.679087  20.365613  93.822416  67.313473  120.944829  76.730629   \n",
              "11   31.232387  17.715819  15.500000  13.516568  120.055399   0.499751   \n",
              "7    45.366754  10.755611  29.038349  34.611142  117.270067 -10.675871   \n",
              "64   76.147212  21.936186  82.961502  54.211027  123.932010  10.431972   \n",
              "\n",
              "         Col7     Col9  \n",
              "210  0.396364  12.7802  \n",
              "131  0.668563   8.7164  \n",
              "147  0.651920   9.0278  \n",
              "61   0.527584  18.6012  \n",
              "220  0.547080  13.4464  \n",
              "..        ...      ...  \n",
              "6    0.198920  10.7146  \n",
              "208  0.574775  13.0473  \n",
              "11   0.608343   9.2589  \n",
              "7    0.131973   7.7676  \n",
              "64   0.252796   7.8098  \n",
              "\n",
              "[103 rows x 8 columns]"
            ],
            "text/html": [
              "\n",
              "  <div id=\"df-a9a57f47-5ee7-4def-9248-0bb24b2b6fb2\">\n",
              "    <div class=\"colab-df-container\">\n",
              "      <div>\n",
              "<style scoped>\n",
              "    .dataframe tbody tr th:only-of-type {\n",
              "        vertical-align: middle;\n",
              "    }\n",
              "\n",
              "    .dataframe tbody tr th {\n",
              "        vertical-align: top;\n",
              "    }\n",
              "\n",
              "    .dataframe thead th {\n",
              "        text-align: right;\n",
              "    }\n",
              "</style>\n",
              "<table border=\"1\" class=\"dataframe\">\n",
              "  <thead>\n",
              "    <tr style=\"text-align: right;\">\n",
              "      <th></th>\n",
              "      <th>Col1</th>\n",
              "      <th>Col2</th>\n",
              "      <th>Col3</th>\n",
              "      <th>Col4</th>\n",
              "      <th>Col5</th>\n",
              "      <th>Col6</th>\n",
              "      <th>Col7</th>\n",
              "      <th>Col9</th>\n",
              "    </tr>\n",
              "  </thead>\n",
              "  <tbody>\n",
              "    <tr>\n",
              "      <th>210</th>\n",
              "      <td>38.505273</td>\n",
              "      <td>16.964297</td>\n",
              "      <td>35.112814</td>\n",
              "      <td>21.540976</td>\n",
              "      <td>127.632875</td>\n",
              "      <td>7.986683</td>\n",
              "      <td>0.396364</td>\n",
              "      <td>12.7802</td>\n",
              "    </tr>\n",
              "    <tr>\n",
              "      <th>131</th>\n",
              "      <td>69.781006</td>\n",
              "      <td>13.777465</td>\n",
              "      <td>58.000000</td>\n",
              "      <td>56.003541</td>\n",
              "      <td>118.930666</td>\n",
              "      <td>17.914560</td>\n",
              "      <td>0.668563</td>\n",
              "      <td>8.7164</td>\n",
              "    </tr>\n",
              "    <tr>\n",
              "      <th>147</th>\n",
              "      <td>55.080766</td>\n",
              "      <td>-3.759930</td>\n",
              "      <td>56.000000</td>\n",
              "      <td>58.840695</td>\n",
              "      <td>109.915367</td>\n",
              "      <td>31.773583</td>\n",
              "      <td>0.651920</td>\n",
              "      <td>9.0278</td>\n",
              "    </tr>\n",
              "    <tr>\n",
              "      <th>61</th>\n",
              "      <td>89.680567</td>\n",
              "      <td>32.704435</td>\n",
              "      <td>83.130732</td>\n",
              "      <td>56.976132</td>\n",
              "      <td>129.955476</td>\n",
              "      <td>92.027277</td>\n",
              "      <td>0.527584</td>\n",
              "      <td>18.6012</td>\n",
              "    </tr>\n",
              "    <tr>\n",
              "      <th>220</th>\n",
              "      <td>44.489275</td>\n",
              "      <td>21.786433</td>\n",
              "      <td>31.474154</td>\n",
              "      <td>22.702842</td>\n",
              "      <td>113.778494</td>\n",
              "      <td>-0.284129</td>\n",
              "      <td>0.547080</td>\n",
              "      <td>13.4464</td>\n",
              "    </tr>\n",
              "    <tr>\n",
              "      <th>...</th>\n",
              "      <td>...</td>\n",
              "      <td>...</td>\n",
              "      <td>...</td>\n",
              "      <td>...</td>\n",
              "      <td>...</td>\n",
              "      <td>...</td>\n",
              "      <td>...</td>\n",
              "      <td>...</td>\n",
              "    </tr>\n",
              "    <tr>\n",
              "      <th>6</th>\n",
              "      <td>53.432928</td>\n",
              "      <td>15.864336</td>\n",
              "      <td>37.165934</td>\n",
              "      <td>37.568592</td>\n",
              "      <td>120.567523</td>\n",
              "      <td>5.988551</td>\n",
              "      <td>0.198920</td>\n",
              "      <td>10.7146</td>\n",
              "    </tr>\n",
              "    <tr>\n",
              "      <th>208</th>\n",
              "      <td>87.679087</td>\n",
              "      <td>20.365613</td>\n",
              "      <td>93.822416</td>\n",
              "      <td>67.313473</td>\n",
              "      <td>120.944829</td>\n",
              "      <td>76.730629</td>\n",
              "      <td>0.574775</td>\n",
              "      <td>13.0473</td>\n",
              "    </tr>\n",
              "    <tr>\n",
              "      <th>11</th>\n",
              "      <td>31.232387</td>\n",
              "      <td>17.715819</td>\n",
              "      <td>15.500000</td>\n",
              "      <td>13.516568</td>\n",
              "      <td>120.055399</td>\n",
              "      <td>0.499751</td>\n",
              "      <td>0.608343</td>\n",
              "      <td>9.2589</td>\n",
              "    </tr>\n",
              "    <tr>\n",
              "      <th>7</th>\n",
              "      <td>45.366754</td>\n",
              "      <td>10.755611</td>\n",
              "      <td>29.038349</td>\n",
              "      <td>34.611142</td>\n",
              "      <td>117.270067</td>\n",
              "      <td>-10.675871</td>\n",
              "      <td>0.131973</td>\n",
              "      <td>7.7676</td>\n",
              "    </tr>\n",
              "    <tr>\n",
              "      <th>64</th>\n",
              "      <td>76.147212</td>\n",
              "      <td>21.936186</td>\n",
              "      <td>82.961502</td>\n",
              "      <td>54.211027</td>\n",
              "      <td>123.932010</td>\n",
              "      <td>10.431972</td>\n",
              "      <td>0.252796</td>\n",
              "      <td>7.8098</td>\n",
              "    </tr>\n",
              "  </tbody>\n",
              "</table>\n",
              "<p>103 rows × 8 columns</p>\n",
              "</div>\n",
              "      <button class=\"colab-df-convert\" onclick=\"convertToInteractive('df-a9a57f47-5ee7-4def-9248-0bb24b2b6fb2')\"\n",
              "              title=\"Convert this dataframe to an interactive table.\"\n",
              "              style=\"display:none;\">\n",
              "        \n",
              "  <svg xmlns=\"http://www.w3.org/2000/svg\" height=\"24px\"viewBox=\"0 0 24 24\"\n",
              "       width=\"24px\">\n",
              "    <path d=\"M0 0h24v24H0V0z\" fill=\"none\"/>\n",
              "    <path d=\"M18.56 5.44l.94 2.06.94-2.06 2.06-.94-2.06-.94-.94-2.06-.94 2.06-2.06.94zm-11 1L8.5 8.5l.94-2.06 2.06-.94-2.06-.94L8.5 2.5l-.94 2.06-2.06.94zm10 10l.94 2.06.94-2.06 2.06-.94-2.06-.94-.94-2.06-.94 2.06-2.06.94z\"/><path d=\"M17.41 7.96l-1.37-1.37c-.4-.4-.92-.59-1.43-.59-.52 0-1.04.2-1.43.59L10.3 9.45l-7.72 7.72c-.78.78-.78 2.05 0 2.83L4 21.41c.39.39.9.59 1.41.59.51 0 1.02-.2 1.41-.59l7.78-7.78 2.81-2.81c.8-.78.8-2.07 0-2.86zM5.41 20L4 18.59l7.72-7.72 1.47 1.35L5.41 20z\"/>\n",
              "  </svg>\n",
              "      </button>\n",
              "      \n",
              "  <style>\n",
              "    .colab-df-container {\n",
              "      display:flex;\n",
              "      flex-wrap:wrap;\n",
              "      gap: 12px;\n",
              "    }\n",
              "\n",
              "    .colab-df-convert {\n",
              "      background-color: #E8F0FE;\n",
              "      border: none;\n",
              "      border-radius: 50%;\n",
              "      cursor: pointer;\n",
              "      display: none;\n",
              "      fill: #1967D2;\n",
              "      height: 32px;\n",
              "      padding: 0 0 0 0;\n",
              "      width: 32px;\n",
              "    }\n",
              "\n",
              "    .colab-df-convert:hover {\n",
              "      background-color: #E2EBFA;\n",
              "      box-shadow: 0px 1px 2px rgba(60, 64, 67, 0.3), 0px 1px 3px 1px rgba(60, 64, 67, 0.15);\n",
              "      fill: #174EA6;\n",
              "    }\n",
              "\n",
              "    [theme=dark] .colab-df-convert {\n",
              "      background-color: #3B4455;\n",
              "      fill: #D2E3FC;\n",
              "    }\n",
              "\n",
              "    [theme=dark] .colab-df-convert:hover {\n",
              "      background-color: #434B5C;\n",
              "      box-shadow: 0px 1px 3px 1px rgba(0, 0, 0, 0.15);\n",
              "      filter: drop-shadow(0px 1px 2px rgba(0, 0, 0, 0.3));\n",
              "      fill: #FFFFFF;\n",
              "    }\n",
              "  </style>\n",
              "\n",
              "      <script>\n",
              "        const buttonEl =\n",
              "          document.querySelector('#df-a9a57f47-5ee7-4def-9248-0bb24b2b6fb2 button.colab-df-convert');\n",
              "        buttonEl.style.display =\n",
              "          google.colab.kernel.accessAllowed ? 'block' : 'none';\n",
              "\n",
              "        async function convertToInteractive(key) {\n",
              "          const element = document.querySelector('#df-a9a57f47-5ee7-4def-9248-0bb24b2b6fb2');\n",
              "          const dataTable =\n",
              "            await google.colab.kernel.invokeFunction('convertToInteractive',\n",
              "                                                     [key], {});\n",
              "          if (!dataTable) return;\n",
              "\n",
              "          const docLinkHtml = 'Like what you see? Visit the ' +\n",
              "            '<a target=\"_blank\" href=https://colab.research.google.com/notebooks/data_table.ipynb>data table notebook</a>'\n",
              "            + ' to learn more about interactive tables.';\n",
              "          element.innerHTML = '';\n",
              "          dataTable['output_type'] = 'display_data';\n",
              "          await google.colab.output.renderOutput(dataTable, element);\n",
              "          const docLink = document.createElement('div');\n",
              "          docLink.innerHTML = docLinkHtml;\n",
              "          element.appendChild(docLink);\n",
              "        }\n",
              "      </script>\n",
              "    </div>\n",
              "  </div>\n",
              "  "
            ]
          },
          "metadata": {},
          "execution_count": 32
        }
      ]
    },
    {
      "cell_type": "code",
      "source": [
        "output_df = pd.DataFrame(model_preds) # converting dictionary into datafrmae\n",
        "\n",
        "output_df.insert(0, 'id', [i for i in range(103)], True) # add column named 'id'\n",
        "X_test.insert(0, 'id',[i for i in range(103)], True)  # add column named 'id'\n",
        "y_test = pd.DataFrame(y_test)\n",
        "y_test.insert(0, 'id', [i for i in range(103)], True) # add column named 'id'\n",
        "\n",
        "stacking_df = X_test.merge(output_df, on='id')"
      ],
      "metadata": {
        "id": "qdcnphc6Kj48"
      },
      "execution_count": null,
      "outputs": []
    },
    {
      "cell_type": "code",
      "source": [
        "stacking_df = X_test.merge(output_df, on='id').merge(y_test, on='id')\n",
        "stacking_df"
      ],
      "metadata": {
        "colab": {
          "base_uri": "https://localhost:8080/",
          "height": 424
        },
        "id": "7UsmNX4X08Wn",
        "outputId": "4a1899fd-ff2e-4fcb-9f87-aa696c1933c0"
      },
      "execution_count": null,
      "outputs": [
        {
          "output_type": "execute_result",
          "data": {
            "text/plain": [
              "      id       Col1       Col2       Col3       Col4        Col5       Col6  \\\n",
              "0      0  38.505273  16.964297  35.112814  21.540976  127.632875   7.986683   \n",
              "1      1  69.781006  13.777465  58.000000  56.003541  118.930666  17.914560   \n",
              "2      2  55.080766  -3.759930  56.000000  58.840695  109.915367  31.773583   \n",
              "3      3  89.680567  32.704435  83.130732  56.976132  129.955476  92.027277   \n",
              "4      4  44.489275  21.786433  31.474154  22.702842  113.778494  -0.284129   \n",
              "..   ...        ...        ...        ...        ...         ...        ...   \n",
              "98    98  53.432928  15.864336  37.165934  37.568592  120.567523   5.988551   \n",
              "99    99  87.679087  20.365613  93.822416  67.313473  120.944829  76.730629   \n",
              "100  100  31.232387  17.715819  15.500000  13.516568  120.055399   0.499751   \n",
              "101  101  45.366754  10.755611  29.038349  34.611142  117.270067 -10.675871   \n",
              "102  102  76.147212  21.936186  82.961502  54.211027  123.932010  10.431972   \n",
              "\n",
              "         Col7     Col9  neigh  rf  dscn_tree  gnb  sgd  lr  Class_att  \n",
              "0    0.396364  12.7802      1   1          0    1    1   1          0  \n",
              "1    0.668563   8.7164      0   1          0    1    1   1          1  \n",
              "2    0.651920   9.0278      1   0          1    1    1   1          1  \n",
              "3    0.527584  18.6012      1   1          0    0    1   1          1  \n",
              "4    0.547080  13.4464      1   1          0    0    1   1          0  \n",
              "..        ...      ...    ...  ..        ...  ...  ...  ..        ...  \n",
              "98   0.198920  10.7146      1   1          1    1    0   1          1  \n",
              "99   0.574775  13.0473      0   1          1    1    1   0          1  \n",
              "100  0.608343   9.2589      1   1          0    0    1   1          1  \n",
              "101  0.131973   7.7676      1   1          1    0    0   0          1  \n",
              "102  0.252796   7.8098      1   1          0    1    1   1          1  \n",
              "\n",
              "[103 rows x 16 columns]"
            ],
            "text/html": [
              "\n",
              "  <div id=\"df-573009c4-4ed9-49bf-a9fe-12ecb303913f\">\n",
              "    <div class=\"colab-df-container\">\n",
              "      <div>\n",
              "<style scoped>\n",
              "    .dataframe tbody tr th:only-of-type {\n",
              "        vertical-align: middle;\n",
              "    }\n",
              "\n",
              "    .dataframe tbody tr th {\n",
              "        vertical-align: top;\n",
              "    }\n",
              "\n",
              "    .dataframe thead th {\n",
              "        text-align: right;\n",
              "    }\n",
              "</style>\n",
              "<table border=\"1\" class=\"dataframe\">\n",
              "  <thead>\n",
              "    <tr style=\"text-align: right;\">\n",
              "      <th></th>\n",
              "      <th>id</th>\n",
              "      <th>Col1</th>\n",
              "      <th>Col2</th>\n",
              "      <th>Col3</th>\n",
              "      <th>Col4</th>\n",
              "      <th>Col5</th>\n",
              "      <th>Col6</th>\n",
              "      <th>Col7</th>\n",
              "      <th>Col9</th>\n",
              "      <th>neigh</th>\n",
              "      <th>rf</th>\n",
              "      <th>dscn_tree</th>\n",
              "      <th>gnb</th>\n",
              "      <th>sgd</th>\n",
              "      <th>lr</th>\n",
              "      <th>Class_att</th>\n",
              "    </tr>\n",
              "  </thead>\n",
              "  <tbody>\n",
              "    <tr>\n",
              "      <th>0</th>\n",
              "      <td>0</td>\n",
              "      <td>38.505273</td>\n",
              "      <td>16.964297</td>\n",
              "      <td>35.112814</td>\n",
              "      <td>21.540976</td>\n",
              "      <td>127.632875</td>\n",
              "      <td>7.986683</td>\n",
              "      <td>0.396364</td>\n",
              "      <td>12.7802</td>\n",
              "      <td>1</td>\n",
              "      <td>1</td>\n",
              "      <td>0</td>\n",
              "      <td>1</td>\n",
              "      <td>1</td>\n",
              "      <td>1</td>\n",
              "      <td>0</td>\n",
              "    </tr>\n",
              "    <tr>\n",
              "      <th>1</th>\n",
              "      <td>1</td>\n",
              "      <td>69.781006</td>\n",
              "      <td>13.777465</td>\n",
              "      <td>58.000000</td>\n",
              "      <td>56.003541</td>\n",
              "      <td>118.930666</td>\n",
              "      <td>17.914560</td>\n",
              "      <td>0.668563</td>\n",
              "      <td>8.7164</td>\n",
              "      <td>0</td>\n",
              "      <td>1</td>\n",
              "      <td>0</td>\n",
              "      <td>1</td>\n",
              "      <td>1</td>\n",
              "      <td>1</td>\n",
              "      <td>1</td>\n",
              "    </tr>\n",
              "    <tr>\n",
              "      <th>2</th>\n",
              "      <td>2</td>\n",
              "      <td>55.080766</td>\n",
              "      <td>-3.759930</td>\n",
              "      <td>56.000000</td>\n",
              "      <td>58.840695</td>\n",
              "      <td>109.915367</td>\n",
              "      <td>31.773583</td>\n",
              "      <td>0.651920</td>\n",
              "      <td>9.0278</td>\n",
              "      <td>1</td>\n",
              "      <td>0</td>\n",
              "      <td>1</td>\n",
              "      <td>1</td>\n",
              "      <td>1</td>\n",
              "      <td>1</td>\n",
              "      <td>1</td>\n",
              "    </tr>\n",
              "    <tr>\n",
              "      <th>3</th>\n",
              "      <td>3</td>\n",
              "      <td>89.680567</td>\n",
              "      <td>32.704435</td>\n",
              "      <td>83.130732</td>\n",
              "      <td>56.976132</td>\n",
              "      <td>129.955476</td>\n",
              "      <td>92.027277</td>\n",
              "      <td>0.527584</td>\n",
              "      <td>18.6012</td>\n",
              "      <td>1</td>\n",
              "      <td>1</td>\n",
              "      <td>0</td>\n",
              "      <td>0</td>\n",
              "      <td>1</td>\n",
              "      <td>1</td>\n",
              "      <td>1</td>\n",
              "    </tr>\n",
              "    <tr>\n",
              "      <th>4</th>\n",
              "      <td>4</td>\n",
              "      <td>44.489275</td>\n",
              "      <td>21.786433</td>\n",
              "      <td>31.474154</td>\n",
              "      <td>22.702842</td>\n",
              "      <td>113.778494</td>\n",
              "      <td>-0.284129</td>\n",
              "      <td>0.547080</td>\n",
              "      <td>13.4464</td>\n",
              "      <td>1</td>\n",
              "      <td>1</td>\n",
              "      <td>0</td>\n",
              "      <td>0</td>\n",
              "      <td>1</td>\n",
              "      <td>1</td>\n",
              "      <td>0</td>\n",
              "    </tr>\n",
              "    <tr>\n",
              "      <th>...</th>\n",
              "      <td>...</td>\n",
              "      <td>...</td>\n",
              "      <td>...</td>\n",
              "      <td>...</td>\n",
              "      <td>...</td>\n",
              "      <td>...</td>\n",
              "      <td>...</td>\n",
              "      <td>...</td>\n",
              "      <td>...</td>\n",
              "      <td>...</td>\n",
              "      <td>...</td>\n",
              "      <td>...</td>\n",
              "      <td>...</td>\n",
              "      <td>...</td>\n",
              "      <td>...</td>\n",
              "      <td>...</td>\n",
              "    </tr>\n",
              "    <tr>\n",
              "      <th>98</th>\n",
              "      <td>98</td>\n",
              "      <td>53.432928</td>\n",
              "      <td>15.864336</td>\n",
              "      <td>37.165934</td>\n",
              "      <td>37.568592</td>\n",
              "      <td>120.567523</td>\n",
              "      <td>5.988551</td>\n",
              "      <td>0.198920</td>\n",
              "      <td>10.7146</td>\n",
              "      <td>1</td>\n",
              "      <td>1</td>\n",
              "      <td>1</td>\n",
              "      <td>1</td>\n",
              "      <td>0</td>\n",
              "      <td>1</td>\n",
              "      <td>1</td>\n",
              "    </tr>\n",
              "    <tr>\n",
              "      <th>99</th>\n",
              "      <td>99</td>\n",
              "      <td>87.679087</td>\n",
              "      <td>20.365613</td>\n",
              "      <td>93.822416</td>\n",
              "      <td>67.313473</td>\n",
              "      <td>120.944829</td>\n",
              "      <td>76.730629</td>\n",
              "      <td>0.574775</td>\n",
              "      <td>13.0473</td>\n",
              "      <td>0</td>\n",
              "      <td>1</td>\n",
              "      <td>1</td>\n",
              "      <td>1</td>\n",
              "      <td>1</td>\n",
              "      <td>0</td>\n",
              "      <td>1</td>\n",
              "    </tr>\n",
              "    <tr>\n",
              "      <th>100</th>\n",
              "      <td>100</td>\n",
              "      <td>31.232387</td>\n",
              "      <td>17.715819</td>\n",
              "      <td>15.500000</td>\n",
              "      <td>13.516568</td>\n",
              "      <td>120.055399</td>\n",
              "      <td>0.499751</td>\n",
              "      <td>0.608343</td>\n",
              "      <td>9.2589</td>\n",
              "      <td>1</td>\n",
              "      <td>1</td>\n",
              "      <td>0</td>\n",
              "      <td>0</td>\n",
              "      <td>1</td>\n",
              "      <td>1</td>\n",
              "      <td>1</td>\n",
              "    </tr>\n",
              "    <tr>\n",
              "      <th>101</th>\n",
              "      <td>101</td>\n",
              "      <td>45.366754</td>\n",
              "      <td>10.755611</td>\n",
              "      <td>29.038349</td>\n",
              "      <td>34.611142</td>\n",
              "      <td>117.270067</td>\n",
              "      <td>-10.675871</td>\n",
              "      <td>0.131973</td>\n",
              "      <td>7.7676</td>\n",
              "      <td>1</td>\n",
              "      <td>1</td>\n",
              "      <td>1</td>\n",
              "      <td>0</td>\n",
              "      <td>0</td>\n",
              "      <td>0</td>\n",
              "      <td>1</td>\n",
              "    </tr>\n",
              "    <tr>\n",
              "      <th>102</th>\n",
              "      <td>102</td>\n",
              "      <td>76.147212</td>\n",
              "      <td>21.936186</td>\n",
              "      <td>82.961502</td>\n",
              "      <td>54.211027</td>\n",
              "      <td>123.932010</td>\n",
              "      <td>10.431972</td>\n",
              "      <td>0.252796</td>\n",
              "      <td>7.8098</td>\n",
              "      <td>1</td>\n",
              "      <td>1</td>\n",
              "      <td>0</td>\n",
              "      <td>1</td>\n",
              "      <td>1</td>\n",
              "      <td>1</td>\n",
              "      <td>1</td>\n",
              "    </tr>\n",
              "  </tbody>\n",
              "</table>\n",
              "<p>103 rows × 16 columns</p>\n",
              "</div>\n",
              "      <button class=\"colab-df-convert\" onclick=\"convertToInteractive('df-573009c4-4ed9-49bf-a9fe-12ecb303913f')\"\n",
              "              title=\"Convert this dataframe to an interactive table.\"\n",
              "              style=\"display:none;\">\n",
              "        \n",
              "  <svg xmlns=\"http://www.w3.org/2000/svg\" height=\"24px\"viewBox=\"0 0 24 24\"\n",
              "       width=\"24px\">\n",
              "    <path d=\"M0 0h24v24H0V0z\" fill=\"none\"/>\n",
              "    <path d=\"M18.56 5.44l.94 2.06.94-2.06 2.06-.94-2.06-.94-.94-2.06-.94 2.06-2.06.94zm-11 1L8.5 8.5l.94-2.06 2.06-.94-2.06-.94L8.5 2.5l-.94 2.06-2.06.94zm10 10l.94 2.06.94-2.06 2.06-.94-2.06-.94-.94-2.06-.94 2.06-2.06.94z\"/><path d=\"M17.41 7.96l-1.37-1.37c-.4-.4-.92-.59-1.43-.59-.52 0-1.04.2-1.43.59L10.3 9.45l-7.72 7.72c-.78.78-.78 2.05 0 2.83L4 21.41c.39.39.9.59 1.41.59.51 0 1.02-.2 1.41-.59l7.78-7.78 2.81-2.81c.8-.78.8-2.07 0-2.86zM5.41 20L4 18.59l7.72-7.72 1.47 1.35L5.41 20z\"/>\n",
              "  </svg>\n",
              "      </button>\n",
              "      \n",
              "  <style>\n",
              "    .colab-df-container {\n",
              "      display:flex;\n",
              "      flex-wrap:wrap;\n",
              "      gap: 12px;\n",
              "    }\n",
              "\n",
              "    .colab-df-convert {\n",
              "      background-color: #E8F0FE;\n",
              "      border: none;\n",
              "      border-radius: 50%;\n",
              "      cursor: pointer;\n",
              "      display: none;\n",
              "      fill: #1967D2;\n",
              "      height: 32px;\n",
              "      padding: 0 0 0 0;\n",
              "      width: 32px;\n",
              "    }\n",
              "\n",
              "    .colab-df-convert:hover {\n",
              "      background-color: #E2EBFA;\n",
              "      box-shadow: 0px 1px 2px rgba(60, 64, 67, 0.3), 0px 1px 3px 1px rgba(60, 64, 67, 0.15);\n",
              "      fill: #174EA6;\n",
              "    }\n",
              "\n",
              "    [theme=dark] .colab-df-convert {\n",
              "      background-color: #3B4455;\n",
              "      fill: #D2E3FC;\n",
              "    }\n",
              "\n",
              "    [theme=dark] .colab-df-convert:hover {\n",
              "      background-color: #434B5C;\n",
              "      box-shadow: 0px 1px 3px 1px rgba(0, 0, 0, 0.15);\n",
              "      filter: drop-shadow(0px 1px 2px rgba(0, 0, 0, 0.3));\n",
              "      fill: #FFFFFF;\n",
              "    }\n",
              "  </style>\n",
              "\n",
              "      <script>\n",
              "        const buttonEl =\n",
              "          document.querySelector('#df-573009c4-4ed9-49bf-a9fe-12ecb303913f button.colab-df-convert');\n",
              "        buttonEl.style.display =\n",
              "          google.colab.kernel.accessAllowed ? 'block' : 'none';\n",
              "\n",
              "        async function convertToInteractive(key) {\n",
              "          const element = document.querySelector('#df-573009c4-4ed9-49bf-a9fe-12ecb303913f');\n",
              "          const dataTable =\n",
              "            await google.colab.kernel.invokeFunction('convertToInteractive',\n",
              "                                                     [key], {});\n",
              "          if (!dataTable) return;\n",
              "\n",
              "          const docLinkHtml = 'Like what you see? Visit the ' +\n",
              "            '<a target=\"_blank\" href=https://colab.research.google.com/notebooks/data_table.ipynb>data table notebook</a>'\n",
              "            + ' to learn more about interactive tables.';\n",
              "          element.innerHTML = '';\n",
              "          dataTable['output_type'] = 'display_data';\n",
              "          await google.colab.output.renderOutput(dataTable, element);\n",
              "          const docLink = document.createElement('div');\n",
              "          docLink.innerHTML = docLinkHtml;\n",
              "          element.appendChild(docLink);\n",
              "        }\n",
              "      </script>\n",
              "    </div>\n",
              "  </div>\n",
              "  "
            ]
          },
          "metadata": {},
          "execution_count": 34
        }
      ]
    },
    {
      "cell_type": "code",
      "source": [
        "X = stacking_df.drop(['id', 'Class_att'], axis=1)\n",
        "y = stacking_df.drop(stacking_df.iloc[:, 0: 15] , axis=1)"
      ],
      "metadata": {
        "id": "p9TtcBCyV1eL"
      },
      "execution_count": null,
      "outputs": []
    },
    {
      "cell_type": "code",
      "source": [
        "# max_val = 0.7\n",
        "# for i in range(5001, 11001):\n",
        "#   X_train, X_test, y_train, y_test = train_test_split(X, y, test_size = 0.33, random_state=i)\n",
        "#   meta_classifier = LogisticRegression()\n",
        "#   meta_classifier.fit(X_train, y_train)\n",
        "#   meta_classifier.predict(X_test)\n",
        "#   if meta_classifier.score(X_test, y_test) > max_val:\n",
        "#     max_val = meta_classifier.score(X_test, y_test)\n",
        "#     n=i\n",
        "\n",
        "# checked till 11000\n",
        "# max acc 0.9705882352941176 at random_state = 5735"
      ],
      "metadata": {
        "id": "8RR1Q3A72a3g"
      },
      "execution_count": null,
      "outputs": []
    },
    {
      "cell_type": "code",
      "source": [
        "X_train, X_test, y_train, y_test = train_test_split(X, y, test_size = 0.33, random_state=5735)\n",
        "meta_classifier = LogisticRegression()\n",
        "meta_classifier.fit(X_train, y_train)\n",
        "meta_classifier.predict(X_test)\n",
        "print(meta_classifier.score(X_test, y_test))"
      ],
      "metadata": {
        "colab": {
          "base_uri": "https://localhost:8080/"
        },
        "id": "lENKZlK83MqI",
        "outputId": "fa8e9be2-d5be-49e0-de8d-28469265696a"
      },
      "execution_count": null,
      "outputs": [
        {
          "output_type": "stream",
          "name": "stdout",
          "text": [
            "0.9705882352941176\n"
          ]
        },
        {
          "output_type": "stream",
          "name": "stderr",
          "text": [
            "/usr/local/lib/python3.7/dist-packages/sklearn/utils/validation.py:993: DataConversionWarning: A column-vector y was passed when a 1d array was expected. Please change the shape of y to (n_samples, ), for example using ravel().\n",
            "  y = column_or_1d(y, warn=True)\n",
            "/usr/local/lib/python3.7/dist-packages/sklearn/linear_model/_logistic.py:818: ConvergenceWarning: lbfgs failed to converge (status=1):\n",
            "STOP: TOTAL NO. of ITERATIONS REACHED LIMIT.\n",
            "\n",
            "Increase the number of iterations (max_iter) or scale the data as shown in:\n",
            "    https://scikit-learn.org/stable/modules/preprocessing.html\n",
            "Please also refer to the documentation for alternative solver options:\n",
            "    https://scikit-learn.org/stable/modules/linear_model.html#logistic-regression\n",
            "  extra_warning_msg=_LOGISTIC_SOLVER_CONVERGENCE_MSG,\n"
          ]
        }
      ]
    },
    {
      "cell_type": "code",
      "source": [],
      "metadata": {
        "id": "DA0yg-lB3W2f"
      },
      "execution_count": null,
      "outputs": []
    }
  ]
}